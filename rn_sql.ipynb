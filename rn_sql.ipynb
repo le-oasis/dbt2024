{
 "cells": [
  {
   "cell_type": "code",
   "execution_count": 13,
   "metadata": {},
   "outputs": [
    {
     "name": "stdout",
     "output_type": "stream",
     "text": [
      "Data from first_model:\n",
      "   count_star()\n",
      "0            97\n",
      "\n",
      "Data from ref_model:\n",
      "   count_star()\n",
      "0            97\n"
     ]
    }
   ],
   "source": [
    "import duckdb\n",
    "import pandas as pd\n",
    "\n",
    "# SQL query to select data from first_model\n",
    "sql_query_first_model = ''' \n",
    "SELECT COUNT(*) FROM first_model LIMIT 5\n",
    "'''\n",
    "\n",
    "# SQL query to select data from ref_model\n",
    "sql_query_ref_model = ''' \n",
    "SELECT * FROM ref_model\n",
    "'''\n",
    "\n",
    "# Connect to the DuckDB database and execute the queries\n",
    "with duckdb.connect('data/nyc_parking_violations.db') as con:\n",
    "    df_first_model = con.execute(sql_query_first_model).df()\n",
    "    df_ref_model = con.execute(sql_query_ref_model).df()\n",
    "    \n",
    "    # Display the results\n",
    "    print(\"Data from first_model:\")\n",
    "    print(df_first_model)\n",
    "    \n",
    "    print(\"\\nData from ref_model:\")\n",
    "    print(df_ref_model)"
   ]
  },
  {
   "cell_type": "code",
   "execution_count": 11,
   "metadata": {},
   "outputs": [
    {
     "name": "stdout",
     "output_type": "stream",
     "text": [
      "[('bronze_parking_violation_codes',), ('bronze_parking_violations',), ('first_model',), ('gold_ticket_metrics',), ('gold_vehicles_metrics',), ('parking_violation_codes',), ('parking_violations_2023',), ('ref_model',), ('silver_parking_violation_codes',), ('silver_parking_violations',), ('silver_violation_tickets',), ('silver_violation_vehicles',)]\n"
     ]
    }
   ],
   "source": [
    "import duckdb\n",
    "\n",
    "# Connect to the DuckDB database and list all tables\n",
    "with duckdb.connect('data/nyc_parking_violations.db') as con:\n",
    "    tables = con.execute(\"SHOW TABLES\").fetchall()\n",
    "    print(tables)"
   ]
  },
  {
   "cell_type": "code",
   "execution_count": 3,
   "metadata": {},
   "outputs": [
    {
     "data": {
      "text/html": [
       "<div>\n",
       "<style scoped>\n",
       "    .dataframe tbody tr th:only-of-type {\n",
       "        vertical-align: middle;\n",
       "    }\n",
       "\n",
       "    .dataframe tbody tr th {\n",
       "        vertical-align: top;\n",
       "    }\n",
       "\n",
       "    .dataframe thead th {\n",
       "        text-align: right;\n",
       "    }\n",
       "</style>\n",
       "<table border=\"1\" class=\"dataframe\">\n",
       "  <thead>\n",
       "    <tr style=\"text-align: right;\">\n",
       "      <th></th>\n",
       "      <th>name</th>\n",
       "    </tr>\n",
       "  </thead>\n",
       "  <tbody>\n",
       "    <tr>\n",
       "      <th>0</th>\n",
       "      <td>parking_violation_codes</td>\n",
       "    </tr>\n",
       "    <tr>\n",
       "      <th>1</th>\n",
       "      <td>parking_violations_2023</td>\n",
       "    </tr>\n",
       "  </tbody>\n",
       "</table>\n",
       "</div>"
      ],
      "text/plain": [
       "                      name\n",
       "0  parking_violation_codes\n",
       "1  parking_violations_2023"
      ]
     },
     "metadata": {},
     "output_type": "display_data"
    }
   ],
   "source": [
    "sql_query = ''' \n",
    "SHOW TABLES\n",
    "'''\n",
    "with duckdb.connect('data/nyc_parking_validations.db') as con:\n",
    "    display(con.sql(sql_query).df())"
   ]
  },
  {
   "cell_type": "code",
   "execution_count": 7,
   "metadata": {},
   "outputs": [
    {
     "data": {
      "text/html": [
       "<div>\n",
       "<style scoped>\n",
       "    .dataframe tbody tr th:only-of-type {\n",
       "        vertical-align: middle;\n",
       "    }\n",
       "\n",
       "    .dataframe tbody tr th {\n",
       "        vertical-align: top;\n",
       "    }\n",
       "\n",
       "    .dataframe thead th {\n",
       "        text-align: right;\n",
       "    }\n",
       "</style>\n",
       "<table border=\"1\" class=\"dataframe\">\n",
       "  <thead>\n",
       "    <tr style=\"text-align: right;\">\n",
       "      <th></th>\n",
       "      <th>code</th>\n",
       "      <th>definition</th>\n",
       "      <th>manhattan_96th_st_below</th>\n",
       "      <th>all_other_areas</th>\n",
       "    </tr>\n",
       "  </thead>\n",
       "  <tbody>\n",
       "    <tr>\n",
       "      <th>0</th>\n",
       "      <td>1</td>\n",
       "      <td>FAILURE TO DISPLAY BUS PERMIT</td>\n",
       "      <td>515</td>\n",
       "      <td>515</td>\n",
       "    </tr>\n",
       "    <tr>\n",
       "      <th>1</th>\n",
       "      <td>2</td>\n",
       "      <td>NO OPERATOR NAM/ADD/PH DISPLAY</td>\n",
       "      <td>515</td>\n",
       "      <td>515</td>\n",
       "    </tr>\n",
       "    <tr>\n",
       "      <th>2</th>\n",
       "      <td>3</td>\n",
       "      <td>UNAUTHORIZED PASSENGER PICK-UP</td>\n",
       "      <td>515</td>\n",
       "      <td>515</td>\n",
       "    </tr>\n",
       "    <tr>\n",
       "      <th>3</th>\n",
       "      <td>4</td>\n",
       "      <td>BUS PARKING IN LOWER MANHATTAN</td>\n",
       "      <td>115</td>\n",
       "      <td>115</td>\n",
       "    </tr>\n",
       "    <tr>\n",
       "      <th>4</th>\n",
       "      <td>5</td>\n",
       "      <td>BUS LANE VIOLATION</td>\n",
       "      <td>250</td>\n",
       "      <td>250</td>\n",
       "    </tr>\n",
       "  </tbody>\n",
       "</table>\n",
       "</div>"
      ],
      "text/plain": [
       "   code                      definition  manhattan_96th_st_below  \\\n",
       "0     1   FAILURE TO DISPLAY BUS PERMIT                      515   \n",
       "1     2  NO OPERATOR NAM/ADD/PH DISPLAY                      515   \n",
       "2     3  UNAUTHORIZED PASSENGER PICK-UP                      515   \n",
       "3     4  BUS PARKING IN LOWER MANHATTAN                      115   \n",
       "4     5              BUS LANE VIOLATION                      250   \n",
       "\n",
       "   all_other_areas  \n",
       "0              515  \n",
       "1              515  \n",
       "2              515  \n",
       "3              115  \n",
       "4              250  "
      ]
     },
     "metadata": {},
     "output_type": "display_data"
    }
   ],
   "source": [
    "sql_query = ''' \n",
    "SELECT * FROM parking_violation_codes LIMIT 5\n",
    "'''\n",
    "with duckdb.connect('data/nyc_parking_validations.db') as con:\n",
    "    display(con.sql(sql_query).df())"
   ]
  },
  {
   "cell_type": "code",
   "execution_count": 5,
   "metadata": {},
   "outputs": [],
   "source": [
    "sql_query_import_1 = '''\n",
    "CREATE OR REPLACE TABLE parking_violation_codes AS\n",
    "SELECT *\n",
    "FROM \n",
    "    read_csv_auto('data/dof_parking_violation_codes.csv',\n",
    "    normalize_names=True)\n",
    "'''\n",
    "\n",
    "sql_query_import_2 = '''\n",
    "CREATE OR REPLACE TABLE parking_violations_2023 AS\n",
    "SELECT *\n",
    "FROM read_csv_auto('data/parking_violations_issued_fiscal_year_2023_sample.csv',\n",
    "normalize_names=True)\n",
    "'''\n",
    "\n",
    "with duckdb.connect('data/nyc_parking_validations.db') as con:\n",
    "    con.execute(sql_query_import_1)\n",
    "    con.execute(sql_query_import_2)"
   ]
  },
  {
   "cell_type": "code",
   "execution_count": null,
   "metadata": {},
   "outputs": [],
   "source": []
  }
 ],
 "metadata": {
  "kernelspec": {
   "display_name": "oasis",
   "language": "python",
   "name": "python3"
  },
  "language_info": {
   "codemirror_mode": {
    "name": "ipython",
    "version": 3
   },
   "file_extension": ".py",
   "mimetype": "text/x-python",
   "name": "python",
   "nbconvert_exporter": "python",
   "pygments_lexer": "ipython3",
   "version": "3.11.9"
  }
 },
 "nbformat": 4,
 "nbformat_minor": 4
}
